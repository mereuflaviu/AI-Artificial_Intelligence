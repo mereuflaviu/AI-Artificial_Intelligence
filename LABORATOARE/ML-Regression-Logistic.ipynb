{
 "cells": [
  {
   "cell_type": "markdown",
   "metadata": {},
   "source": [
    "# Regresie Logistică\n",
    "\n",
    "Tudor Berariu - 2018\n",
    "\n",
    "Alexandru Sorici - 2024"
   ]
  },
  {
   "cell_type": "code",
   "execution_count": 293,
   "metadata": {
    "metadata": {}
   },
   "outputs": [
    {
     "name": "stdout",
     "output_type": "stream",
     "text": [
      "Defaulting to user installation because normal site-packages is not writeable\n",
      "Requirement already satisfied: numpy in /home/asus/.local/lib/python3.10/site-packages (1.26.4)\n",
      "Note: you may need to restart the kernel to use updated packages.\n",
      "Defaulting to user installation because normal site-packages is not writeable\n",
      "Requirement already satisfied: matplotlib in /usr/lib/python3/dist-packages (3.5.1)\n",
      "Note: you may need to restart the kernel to use updated packages.\n"
     ]
    }
   ],
   "source": [
    "%pip install numpy\n",
    "%pip install matplotlib"
   ]
  },
  {
   "cell_type": "code",
   "execution_count": 294,
   "metadata": {
    "metadata": {}
   },
   "outputs": [],
   "source": [
    "import numpy as np\n",
    "import matplotlib.pyplot as plt\n",
    "%matplotlib inline\n"
   ]
  },
  {
   "cell_type": "markdown",
   "metadata": {},
   "source": [
    "## 1. Scopul Laboratorului\n",
    "\n",
    "Scopul laboratorului îl reprezintă înțelegerea algoritmului de **regresie logistică** și a rezolvării unei probleme de clasificare prin aplicarea principiului de **estimare a verosimilității maxime (eng. Maximum Likelihood Estimation)**.\n",
    "De asemenea, vom aplica **metoda scăderii gradientului (eng. gradient descent)** pentru a rezolva o problemă de minimizare.\n",
    "\n",
    "Regresia logistică este aplicabilă atunci când dorim să rezolvăm o problemă de **clasificare** (în mod standard **binară**, dar metoda poate fi extinsă și pentru caz multinomial). \n",
    "\n",
    "Variabilele folosite în predicție (peste care se aplică regresia) pot fi:\n",
    "  - variabile continue (date numerice)\n",
    "  - variabile discrete nominale, i.e. date care provin din niște categorii cu un domeniu de valori finit (e.g. culoarea parului, zilele saptamanii)\n",
    "  - variabile discrete ordinale, i.e. date care suportă o relație de ordine (e.g. numarul de stelute la o recenzie de produs)\n",
    "  \n",
    " **Ipoteza de învățare** este că variabilele de predicție se află într-o relație **liniară** cu \"**log odds**\" al varibilei dependente (cea pe care dorim să o clasificăm binar).\n",
    " \n",
    "\n",
    "$$p = P(y=1 \\vert {\\bf x}; {\\bf \\theta})$$\n",
    "$$l = ln(\\frac{p}{1-p}) = w_0 + w_1 x_1 + \\cdots + w_n x_n $$\n",
    "\n",
    "Rezultă că **probabilitatea** $p$, ca un exemplu să facă parte din clasa \"pozitivă\" este modelată cu ajutorul funcției logistice $\\sigma(a) = \\frac{1}{1+e^{-a}}$ \n",
    "\n",
    "$$p = \\frac{1}{1+ e^{-(w_0 + w_1 x_1 + \\cdots + w_n x_n)}}$$"
   ]
  },
  {
   "cell_type": "markdown",
   "metadata": {},
   "source": [
    "![sigmoid function](res/sigmoid.png)"
   ]
  },
  {
   "cell_type": "markdown",
   "metadata": {},
   "source": [
    "## 2. Maximum Likelihood Estimation (MLE) pentru Regresie Logistică "
   ]
  },
  {
   "cell_type": "markdown",
   "metadata": {},
   "source": [
    "Se dă setul de date (**X**, **t**) constând dintr-o mulțime **X** de N eșantioane de dimensiune D (i.e. fiecare ${\\bf x^{(i)}} \\in {\\bf X}$ este de forma ${\\bf x} = (x_1, x_2, ..., x_D)$) (fiecare eșantion are D atribute).\n",
    "Pentru fiecare ${\\bf x}^{(n)} \\in X$ exista un $t^{(n)} \\in {0, 1}$, reprezentând **clasa** din care face parte exemplul ${\\bf x}^{(n)}$.\n",
    "\n",
    "Predictia data de regresia logistică pentru $x^{(n)}$ este $y^{(n)} = \\sigma({\\bf w^T x^{(n)}} )$\n",
    "\n",
    "Astfel, rezulta setul de date $\\{{\\bf X}, {\\bf t}\\}$ pentru care vom formula expresia de Maximum Likelihood al datelor ca:\n",
    "\n",
    "$$p({\\bf t} \\vert {\\bf w}) = \\prod_{n=1}^{N}{y^{(n)}}^{t^{(n)}}(1 - y^{(n)})^{1-t^{(n)}}$$\n",
    "\n",
    "Pentru stabilitate numerica, in loc de **maximizarea** MLE-ului, vom logaritma expresia si vom **minimiza** media pentru **negative log likelihood (NLL)**.\n",
    "\n",
    "$$J({\\bf w}) = -\\frac{1}{N} ln(p({\\bf t} \\vert {\\bf w})) = - \\frac{1}{N} \\sum_{n=1}^{N} \\left[t^{(n)}ln(y^{(n)}) + (1-t^{(n)})ln(1 - y^{(n)})\\right]$$"
   ]
  },
  {
   "cell_type": "markdown",
   "metadata": {},
   "source": [
    "## 3. Minimizarea folosind metoda scăderii gradientului"
   ]
  },
  {
   "cell_type": "markdown",
   "metadata": {},
   "source": [
    "Algoritmul de minimizare a unei functii obiectiv $J({\\bf w})$ folosind scaderea gradientului are forma urmatoare:"
   ]
  },
  {
   "cell_type": "markdown",
   "metadata": {},
   "source": [
    "<!-- ![gradient descent](img/alg-gradient-descent.png) -->\n",
    "**Procedura Scăderii Gradientului**\n",
    "  - intrări: \n",
    "    - ${\\bf w}_{init}$ - ponderi inițializate aleator dintr-o distribuție normala $N(\\mu=0, \\Sigma=I)$ \n",
    "    - $\\alpha$ (rata de învățare)\n",
    "    - nr\\_epoci - numărul de epoci de antrenare\n",
    "  - ieșiri:\n",
    "    - ${\\bf w^*}$ - ponderi care minimizează funcția de eroare $J({\\bf w})$ \n",
    "\n",
    "1. ${\\bf w_0}$ = ${\\bf w}_{init}$\n",
    "2. $t$ = 1\n",
    "3. **cât timp** $t$ < nr\\_epoci:\n",
    "4. &nbsp;&nbsp;&nbsp;&nbsp; ${\\bf w}_t \\leftarrow {\\bf w}_{t-1} - \\alpha \\nabla_{\\bf w} J({\\bf w})$\n",
    "5. &nbsp;&nbsp;&nbsp;&nbsp; $t \\leftarrow t+1 $ \n"
   ]
  },
  {
   "cell_type": "markdown",
   "metadata": {},
   "source": [
    "unde gradientul functiei $J({\\bf w})$ este:\n",
    "    \n",
    "$$\\nabla_{\\bf w} J({\\bf w}) = \\frac{1}{N}\\sum_{n=1}^{N} (y^{(n)} - t^{(n)}) {\\bf x}^{(n)} = \\frac{1}{N} {\\bf X^T} \\cdot ({\\bf y - t})$$\n",
    "\n",
    "în care operația $\\cdot$ este înmulțire punct-cu-punct (`numpy.dot`), iar $\\alpha$ este **rata de invățare** care controlează \"lungimea\" pasului în direcția opusă gradientului."
   ]
  },
  {
   "cell_type": "markdown",
   "metadata": {},
   "source": [
    "## 4. Setul de date"
   ]
  },
  {
   "cell_type": "code",
   "execution_count": 295,
   "metadata": {
    "metadata": {}
   },
   "outputs": [],
   "source": [
    "def two_clusters(N, variance=0.1):\n",
    "    N1 = N // 2\n",
    "    N2 = N - N1\n",
    "    X1 = np.random.randn(N1, 2) * variance + 0.25\n",
    "    X2 = np.random.randn(N2, 2) * variance + 0.75\n",
    "    X = np.concatenate([X1, X2], axis=0)\n",
    "    T = np.concatenate([np.zeros((N1)), np.ones((N2))], axis=0)\n",
    "    p = np.random.permutation(N)\n",
    "    return X[p], T[p]"
   ]
  },
  {
   "cell_type": "code",
   "execution_count": 296,
   "metadata": {
    "metadata": {}
   },
   "outputs": [],
   "source": [
    "def visualize_dataset(X, T, Y=None, w=None, other_w=None):\n",
    "    m = [\"x\", \"o\"]  # Indicates true class\n",
    "    col = [\"red\", \"blue\"]  # Indicates prediction\n",
    "    fig = plt.figure(); plt.axis('equal')\n",
    "    if Y is not None:\n",
    "        idx_tp = np.logical_and(T >= .5, Y >= .5) # True positives\n",
    "        idx_fp = np.logical_and(T < .5, Y >= .5) # False positives\n",
    "        idx_fn = np.logical_and(T >= .5, Y < .5) # False negatives\n",
    "        idx_tn = np.logical_and(T < .5, Y < .5) # True negatives\n",
    "        \n",
    "        plt.scatter(X[idx_tp,0], X[idx_tp,1], marker=m[0], c=\"red\", label=\"TP\")\n",
    "        plt.scatter(X[idx_fp,0], X[idx_fp,1], marker=m[1], c=\"red\", label=\"FP\")\n",
    "        plt.scatter(X[idx_fn,0], X[idx_fn,1], marker=m[0], c=\"blue\", label=\"FN\")\n",
    "        plt.scatter(X[idx_tn,0], X[idx_tn,1], marker=m[1], c=\"blue\", label=\"TN\")\n",
    "\n",
    "    else:\n",
    "        idx_pos, idx_neg = (T > .5), (T < .5)\n",
    "        plt.scatter(X[idx_pos,0], X[idx_pos,1], marker=m[0], color=\"blue\", label=\"Pos\")\n",
    "        plt.scatter(X[idx_neg,0], X[idx_neg,1], marker=m[1], color=\"blue\", label=\"Neg\")\n",
    "    \n",
    "    if w is not None:\n",
    "        __x = np.linspace(0, 1, 100)\n",
    "        __y = -w[0] / w[1] * __x - w[2] / w[1]\n",
    "        plt.plot(__x, __y, color=\"black\")\n",
    "\n",
    "    if other_w is not None:\n",
    "        __x = np.linspace(0, 1, 100)\n",
    "        __y = -other_w[0] / other_w[1] * __x - other_w[2] / other_w[1]\n",
    "        plt.plot(__x, __y, color=\"orange\")\n",
    "\n",
    "    plt.xlabel(\"x\"); plt.ylabel(\"y\")\n",
    "    plt.legend(bbox_to_anchor=(0, 1), loc='upper left', ncol=1)\n",
    "    plt.show()"
   ]
  },
  {
   "cell_type": "code",
   "execution_count": 297,
   "metadata": {
    "metadata": {}
   },
   "outputs": [],
   "source": [
    "def split_dataset(X, T, train=.8):\n",
    "    N = X.shape[0]\n",
    "    N_train = int(round(N * train))\n",
    "    N_test = N - N_train\n",
    "\n",
    "    X_train, X_test = X[:N_train,:], X[N_train:,:]\n",
    "    T_train, T_test = T[:N_train], T[N_train:]\n",
    "    return X_train, T_train, X_test, T_test\n"
   ]
  },
  {
   "cell_type": "code",
   "execution_count": 298,
   "metadata": {
    "metadata": {}
   },
   "outputs": [
    {
     "data": {
      "image/png": "[encoded data removed]",
      "text/plain": [
       "<Figure size 432x288 with 1 Axes>"
      ]
     },
     "metadata": {
      "needs_background": "light"
     },
     "output_type": "display_data"
    }
   ],
   "source": [
    "X, T = two_clusters(100, variance=0.15)\n",
    "visualize_dataset(X, T, Y=None)"
   ]
  },
  {
   "cell_type": "code",
   "execution_count": 299,
   "metadata": {
    "metadata": {}
   },
   "outputs": [
    {
     "data": {
      "image/png": "[encoded data removed]",
      "text/plain": [
       "<Figure size 432x288 with 1 Axes>"
      ]
     },
     "metadata": {
      "needs_background": "light"
     },
     "output_type": "display_data"
    }
   ],
   "source": [
    "visualize_dataset(X, T, Y=np.random.uniform(size=T.size))"
   ]
  },
  {
   "cell_type": "markdown",
   "metadata": {},
   "source": [
    "### Setul de date extins"
   ]
  },
  {
   "cell_type": "markdown",
   "metadata": {},
   "source": [
    "Dorim sa testam robustetea regresiei logistice la adaugarea unor exemple extreme din clasa pozitivă."
   ]
  },
  {
   "cell_type": "code",
   "execution_count": 300,
   "metadata": {
    "metadata": {}
   },
   "outputs": [
    {
     "data": {
      "image/png": "[encoded data removed]",
      "text/plain": [
       "<Figure size 432x288 with 1 Axes>"
      ]
     },
     "metadata": {
      "needs_background": "light"
     },
     "output_type": "display_data"
    }
   ],
   "source": [
    "extra_N = 800\n",
    "extra_X = np.random.randn(extra_N, 2) * 0.1\n",
    "extra_X[:,1] += 2.5\n",
    "extra_X[:,0] += 3.5\n",
    "extra_T = np.ones(extra_N)\n",
    "X_extended = np.concatenate([X, extra_X], axis=0)\n",
    "T_extended = np.concatenate([T, extra_T], axis=0)\n",
    "\n",
    "visualize_dataset(X_extended, T_extended, Y=None)"
   ]
  },
  {
   "cell_type": "markdown",
   "metadata": {},
   "source": [
    "## 5.1 - Cerinta 1: Implementarea functiei de sigmoida logistica\n",
    "\n",
    "$$\\sigma(x) = \\frac{1}{1 + e^{-x}}$$\n"
   ]
  },
  {
   "cell_type": "code",
   "execution_count": 301,
   "metadata": {
    "metadata": {}
   },
   "outputs": [],
   "source": [
    "# TODO <1>: Implementati functia de sigmoida logistica\n",
    "def logistic(x):\n",
    "    # TODO: Inlocuiti aici cu expresia functiei de sigmoida logistica\n",
    "    # Atentie: x poate fi un vector numpy, deci operatiile trebuie facute pe vectori\n",
    "    # return np.zeros_like(x)  \n",
    "    return 1 / (1 + np.exp(-x))"
   ]
  },
  {
   "cell_type": "code",
   "execution_count": 302,
   "metadata": {
    "metadata": {},
    "scrolled": true
   },
   "outputs": [
    {
     "name": "stdout",
     "output_type": "stream",
     "text": [
      "Logistic looks ok\n"
     ]
    },
    {
     "data": {
      "image/png": "[encoded data removed]",
      "text/plain": [
       "<Figure size 432x288 with 1 Axes>"
      ]
     },
     "metadata": {
      "needs_background": "light"
     },
     "output_type": "display_data"
    }
   ],
   "source": [
    "# Test for the logistic function\n",
    "x = np.linspace(-10, 10, 100)\n",
    "expected_output = np.array(\n",
    "  [4.53978687e-05, 5.55606489e-05, 6.79983174e-05, 8.32200197e-05,\n",
    " 1.01848815e-04, 1.24647146e-04, 1.52547986e-04, 1.86692945e-04,\n",
    " 2.28478855e-04, 2.79614739e-04, 3.42191434e-04, 4.18766684e-04,\n",
    " 5.12469082e-04, 6.27124987e-04, 7.67413430e-04, 9.39055039e-04,\n",
    " 1.14904229e-03, 1.40591988e-03, 1.72012560e-03, 2.10440443e-03,\n",
    " 2.57431039e-03, 3.14881358e-03, 3.85103236e-03, 4.70911357e-03,\n",
    " 5.75728612e-03, 7.03711536e-03, 8.59898661e-03, 1.05038445e-02,\n",
    " 1.28252101e-02, 1.56514861e-02, 1.90885420e-02, 2.32625358e-02,\n",
    " 2.83228820e-02, 3.44451957e-02, 4.18339400e-02, 5.07243606e-02,\n",
    " 6.13831074e-02, 7.41067363e-02, 8.92170603e-02, 1.07052146e-01,\n",
    " 1.27951705e-01, 1.52235823e-01, 1.80176593e-01, 2.11963334e-01,\n",
    " 2.47663801e-01, 2.87185901e-01, 3.30246430e-01, 3.76354517e-01,\n",
    " 4.24816868e-01, 4.74768924e-01, 5.25231076e-01, 5.75183132e-01,\n",
    " 6.23645483e-01, 6.69753570e-01, 7.12814099e-01, 7.52336199e-01,\n",
    " 7.88036666e-01, 8.19823407e-01, 8.47764177e-01, 8.72048295e-01,\n",
    " 8.92947854e-01, 9.10782940e-01, 9.25893264e-01, 9.38616893e-01,\n",
    " 9.49275639e-01, 9.58166060e-01, 9.65554804e-01, 9.71677118e-01,\n",
    " 9.76737464e-01, 9.80911458e-01, 9.84348514e-01, 9.87174790e-01,\n",
    " 9.89496155e-01, 9.91401013e-01, 9.92962885e-01, 9.94242714e-01,\n",
    " 9.95290886e-01, 9.96148968e-01, 9.96851186e-01, 9.97425690e-01,\n",
    " 9.97895596e-01, 9.98279874e-01, 9.98594080e-01, 9.98850958e-01,\n",
    " 9.99060945e-01, 9.99232587e-01, 9.99372875e-01, 9.99487531e-01,\n",
    " 9.99581233e-01, 9.99657809e-01, 9.99720385e-01, 9.99771521e-01,\n",
    " 9.99813307e-01, 9.99847452e-01, 9.99875353e-01, 9.99898151e-01,\n",
    " 9.99916780e-01, 9.99932002e-01, 9.99944439e-01, 9.99954602e-01])\n",
    "output = logistic(x)\n",
    "assert np.allclose(output, expected_output), \"Logistic function does not match expected values\"\n",
    "print(\"Logistic looks ok\")\n",
    "\n",
    "plt.figure()\n",
    "plt.plot(x, output)\n",
    "plt.show()"
   ]
  },
  {
   "cell_type": "markdown",
   "metadata": {},
   "source": [
    "## 5.2 - Cerinta 2: Definirea funcției de eroare și a metricii de performanță\n",
    "Funcția de eroare ce trebuie minimizată în regresia logistică este **Negative Log Likelihood**:\n",
    "\n",
    "\n",
    "$$J({\\bf w}) = -\\frac{1}{N} ln(p({\\bf t} \\vert {\\bf w})) = - \\frac{1}{N} \\sum_{n=1}^{N} \\left[t^{(n)}ln(y^{(n)}) + (1-t^{(n)})ln(1 - y^{(n)})\\right]$$"
   ]
  },
  {
   "cell_type": "code",
   "execution_count": 303,
   "metadata": {
    "metadata": {}
   },
   "outputs": [],
   "source": [
    "# TODO <2.1>: Implementati expresia pentru Negative Log Likelihood - functia J(w), unde Y este predictia data de modelul logistic, \n",
    "# iar T sunt etichetele de clasa pentru cele N exemple din setul de date\n",
    "def nll(Y, T):\n",
    "    N = T.shape[0]\n",
    "\n",
    "    # TODO: Inlocuiti aici cu expresia functiei de Negative Log Likelihood\n",
    "    # Hint: folositi notiunea de indexare logica din numpy si faptul ca T poate fi 0 sau 1\n",
    "    nll_exp = -1/N * np.sum(T * np.log(Y) + (1 - T) * np.log(1 - Y))\n",
    "    return nll_exp"
   ]
  },
  {
   "cell_type": "code",
   "execution_count": 304,
   "metadata": {
    "metadata": {}
   },
   "outputs": [
    {
     "name": "stdout",
     "output_type": "stream",
     "text": [
      "NLL looks ok\n"
     ]
    }
   ],
   "source": [
    "# Test the nll function\n",
    "predictions = np.array([0.8, 0.2, 0.6, 0.4, 0.9, 0.3, 0.7, 0.1, 0.5, 0.8])\n",
    "targets = np.array([1, 0, 1, 0, 1, 0, 1, 0, 1, 0])\n",
    "\n",
    "# Calculate NLL\n",
    "nll_value = nll(predictions, targets)\n",
    "\n",
    "# Check if the value is correct\n",
    "if np.isclose(nll_value, 0.4694594362347564):\n",
    "    print(\"NLL looks ok\")\n",
    "else:\n",
    "    print(\"NLL is incorrect\")\n"
   ]
  },
  {
   "cell_type": "markdown",
   "metadata": {},
   "source": [
    "**Metrica de performanță** este **acuratețea**, care întoarce **o medie** a exemplelor din setul de date clasificate corect.\n",
    "\n",
    "$$ acc = \\frac{1}{N} \\sum_{i=1}^N eval(y^{(i)}, t^{(i)}) $$\n",
    "\n",
    "Unde $eval(y^{(i)}, t^{(i)})$ întoarce `1` dacă:\n",
    "  - pentru $t^{(n)}$ = 1, $y^{(n)} \\geq 0.5$\n",
    "  - pentru $t^{(n)}$ = 0, $y^{(n)} \\lt 0.5$\n",
    "\n",
    "și `0` altfel."
   ]
  },
  {
   "cell_type": "code",
   "execution_count": 305,
   "metadata": {
    "metadata": {}
   },
   "outputs": [],
   "source": [
    "# TODO <2.2>: Implementati expresia care intoarce acuratetea clasificarii\n",
    "def accuracy(Y, T):\n",
    "    N = Y.shape[0]\n",
    "\n",
    "    # TODO: Inlocuiti aici cu expresia functiei de acuratete\n",
    "    # Hint: folositi notiunea de indexare logica din numpy si faptul ca \n",
    "    #       in numpy True este echivalent cu 1 si False cu 0\n",
    "    correct_predictions = np.sum((Y >= 0.5) == T)\n",
    "    accuracy = correct_predictions / N\n",
    "    return accuracy"
   ]
  },
  {
   "cell_type": "code",
   "execution_count": 306,
   "metadata": {
    "metadata": {}
   },
   "outputs": [
    {
     "name": "stdout",
     "output_type": "stream",
     "text": [
      "Accuracy looks ok\n"
     ]
    }
   ],
   "source": [
    "# Test the accuracy function\n",
    "predictions = np.array([0.2, 0.8, 0.6, 0.4, 0.4, 0.3, 0.7, 0.1, 0.6, 0.2])\n",
    "target = np.array([0, 1, 1, 0, 1, 0, 1, 0, 1, 1])\n",
    "\n",
    "expected_accuracy = 0.8\n",
    "computed_accuracy = accuracy(predictions, target)\n",
    "\n",
    "if np.isclose(computed_accuracy, expected_accuracy):\n",
    "    print(\"Accuracy looks ok\")\n",
    "else:\n",
    "    print(\"Accuracy is incorrect\")\n"
   ]
  },
  {
   "cell_type": "markdown",
   "metadata": {},
   "source": [
    "## 5.3 - Cerința 3 - Antrenarea modelului logistic și utilizarea modelului (predicția)\n",
    "Predicția unui model logistic este dată de aplicarea funcției de **sigmoidă logistică** peste produsul scalar al fiecărui exemplu ${\\bf x}^{(i)}$ cu ponderile ${\\bf w}$. \n",
    "\n",
    "$$y^{(i)} = logistic({\\bf x}^{(i)} \\cdot {\\bf w})$$\n",
    "\n",
    "Funcția `predict_logistic` întoarce predicțiile ${\\bf y}$ pentru toate exemplele din setul de date ${\\bf X}$."
   ]
  },
  {
   "cell_type": "code",
   "execution_count": 307,
   "metadata": {
    "metadata": {}
   },
   "outputs": [],
   "source": [
    "def predict_logistic(X, w):\n",
    "    # TODO <3.1> : Calculati predictia Y a modelului logistic antrenat (ponderile w invatate)\n",
    "    # Hint: urmariti explicatiile de utilizare ale functiei `numpy.dot` pentru a putea calcula \n",
    "    # produsele scalare intre toti vectorii x^(i) si ponderile w intr-un singur apel\n",
    "    N = X.shape[0]\n",
    "    N = logistic(np.dot(X, w))\n",
    "    return N"
   ]
  },
  {
   "cell_type": "code",
   "execution_count": 308,
   "metadata": {
    "metadata": {}
   },
   "outputs": [
    {
     "name": "stdout",
     "output_type": "stream",
     "text": [
      "predict_logistic looks ok\n"
     ]
    }
   ],
   "source": [
    "# Test the predict_logistic function\n",
    "X = np.array([[0.1, 0.2, 1], [0.2, 0.3, 1], [0.3, 0.4, 1], [0.4, 0.5, 1], [0.5, 0.6, 1],\n",
    "              [0.6, 0.7, 1], [0.7, 0.8, 1], [0.8, 0.9, 1], [0.9, 1.0, 1], [1.0, 1.1, 1]])\n",
    "w = np.array([0.1, 0.2, 0.3])\n",
    "\n",
    "predictions = predict_logistic(X, w)\n",
    "\n",
    "# check if the predictions are correct\n",
    "expected_predictions = np.array([0.58661758, 0.5938731,  0.60108788, 0.60825903, 0.61538376, 0.62245933, 0.62948311, 0.63645254, 0.64336515, 0.65021855])\n",
    "if np.allclose(predictions, expected_predictions):\n",
    "    print(\"predict_logistic looks ok\")\n",
    "else:\n",
    "    print(\"predict_logistic is incorrect\")"
   ]
  },
  {
   "cell_type": "markdown",
   "metadata": {},
   "source": [
    "Antrenarea și evaluarea modelului de regresie logistică se face prin funcția `train_and eval_logistic`, care execută `epochs_nr` pași ai algoritmului de scădere a gradientului, returnând ponderile antrenare ${\\bf w}$, precum și un istoric al erorii și al acurateții pe seturile de date de antrenare și de test.\n",
    "\n",
    "Metoda de scădere a gradientului execută operațiile:\n",
    "1. $t$ = 1\n",
    "2. **cât timp** $t$ < nr\\_epoci:\n",
    "3. &nbsp;&nbsp;&nbsp;&nbsp; ${\\bf w}_t \\leftarrow {\\bf w}_{t-1} - \\alpha \\nabla_{\\bf w} J({\\bf w})$\n",
    "4. &nbsp;&nbsp;&nbsp;&nbsp; $t \\leftarrow t+1 $ \n",
    "\n",
    "unde gradientul functiei $J({\\bf w})$ este:\n",
    "    \n",
    "$$\\nabla_{\\bf w} J({\\bf w}) = \\frac{1}{N}\\sum_{n=1}^{N} (y^{(n)} - t^{(n)}) {\\bf x}^{(n)} = \\frac{1}{N} {\\bf X^T} \\cdot ({\\bf y - t})$$"
   ]
  },
  {
   "cell_type": "code",
   "execution_count": 309,
   "metadata": {
    "metadata": {}
   },
   "outputs": [],
   "source": [
    "def train_and_eval_logistic(X_train, T_train, X_test, T_test, lr=.01, epochs_no=100):\n",
    "    # TODO <3.2> : Antrenati modelul logistic (ponderile W), executand epochs_no pasi din algoritmul de gradient descent\n",
    "    (N, D) = X.shape\n",
    "\n",
    "    # Initializare ponderi\n",
    "    w = np.random.randn(D)\n",
    "    \n",
    "    train_acc, test_acc = [], []\n",
    "    train_nll, test_nll = [], []\n",
    "\n",
    "    for epoch in range(epochs_no):\n",
    "        # 1. Obtineti Y_train si Y_test folosind functia predict_logistic\n",
    "        Y_train = predict_logistic(X_train, w)\n",
    "        Y_test = predict_logistic(X_test, w)\n",
    "\n",
    "        # 2. Adaugati acuratetea si negative log likelihood-ul pentru setul de antrenare si de testare \n",
    "        #    la fiecare pas; utilizati functiile accuracy si nll definite anterior\n",
    "        train_acc.append(accuracy(Y_train, T_train))\n",
    "        test_acc.append(accuracy(Y_test, T_test))\n",
    "        train_nll.append(nll(Y_train, T_train))\n",
    "        test_nll.append(nll(Y_test, T_test))\n",
    "\n",
    "        # 3. Actualizati ponderile w folosind regula de actualizare a gradientului\n",
    "        grad = np.dot(X_train.T, (Y_train - T_train)) / N\n",
    "        w -= lr * grad\n",
    "\n",
    "    return w, train_nll, test_nll, train_acc, test_acc"
   ]
  },
  {
   "cell_type": "markdown",
   "metadata": {},
   "source": [
    "## 6. Testarea pe setul de date Two Clusters"
   ]
  },
  {
   "cell_type": "code",
   "execution_count": 310,
   "metadata": {
    "metadata": {}
   },
   "outputs": [],
   "source": [
    "def plot_evolution(train_acc, test_acc, train_nll, test_nll):\n",
    "    epochs_no = len(train_acc)\n",
    "    fig, (ax1, ax2) = plt.subplots(2,1)\n",
    "\n",
    "    # Afisam cu verde acuratetea pe setul de antrenare si cu rosu acuratetea pe setul de testare\n",
    "    ax1.plot(range(epochs_no), train_acc, label=\"Train Accuracy\", color=\"green\")\n",
    "    ax1.plot(range(epochs_no), test_acc, label=\"Test Accuracy\", color=\"red\")\n",
    "    ax1.set_ylabel(\"Accuracy\")\n",
    "    ax1.legend(loc='lower right', ncol=1)\n",
    "\n",
    "    # Afisam cu verde NLL pe setul de antrenare si cu rosu NLL pe setul de testare\n",
    "    ax2.plot(range(epochs_no), train_nll, label=\"Train NLL\", color=\"green\")\n",
    "    ax2.plot(range(epochs_no), test_nll, label=\"Test NLL\", color=\"red\")\n",
    "    ax2.set_xlabel(\"iteration\")\n",
    "    ax2.set_ylabel(\"NLL\")\n",
    "    ax2.legend(loc='upper right', ncol=1)\n",
    "    \n",
    "    plt.show()"
   ]
  },
  {
   "cell_type": "code",
   "execution_count": 311,
   "metadata": {
    "metadata": {}
   },
   "outputs": [
    {
     "name": "stdout",
     "output_type": "stream",
     "text": [
      "Acuratete finala pe setul initial - train: 0.9625, test: 0.95\n"
     ]
    },
    {
     "data": {
      "image/png": "[encoded data removed]",
      "text/plain": [
       "<Figure size 432x288 with 1 Axes>"
      ]
     },
     "metadata": {
      "needs_background": "light"
     },
     "output_type": "display_data"
    }
   ],
   "source": [
    "N_EPOCHS = 500  #@param {type: \"slider\", default: 500, min: 100, max: 1000}\n",
    "N_POINTS = 100  #@param {type: \"slider\", default: 100, min: 50, max: 200}\n",
    "VARIANCE = 0.15  #@param {type: \"slider\", default: 0.15, min: 0.0, max: 0.5}\n",
    "X, T = two_clusters(N_POINTS, variance=VARIANCE)\n",
    "\n",
    "\n",
    "# Adaugăm o coloană de 1-uri pentru bias in setul de date X\n",
    "X = np.concatenate([X, np.ones((X.shape[0], 1))], axis=1)\n",
    "\n",
    "X_train, T_train, X_test, T_test = split_dataset(X, T, train=.8)\n",
    "\n",
    "w, train_nll, test_nll, train_acc, test_acc = train_and_eval_logistic(X_train, T_train, X_test, T_test, lr=0.1, epochs_no=N_EPOCHS)\n",
    "\n",
    "Y = predict_logistic(X, w)\n",
    "\n",
    "print(f\"Acuratete finala pe setul initial - train: {train_acc[-1]}, test: {test_acc[-1]}\")\n",
    "\n",
    "visualize_dataset(X, T, Y, w)"
   ]
  },
  {
   "cell_type": "code",
   "execution_count": 312,
   "metadata": {
    "metadata": {}
   },
   "outputs": [
    {
     "data": {
      "image/png": "[encoded data removed]",
      "text/plain": [
       "<Figure size 432x288 with 2 Axes>"
      ]
     },
     "metadata": {
      "needs_background": "light"
     },
     "output_type": "display_data"
    }
   ],
   "source": [
    "plot_evolution(train_acc, test_acc, train_nll, test_nll)"
   ]
  },
  {
   "cell_type": "markdown",
   "metadata": {},
   "source": [
    "### 5.4 Testare pe setul de date Two Clusters Extins"
   ]
  },
  {
   "cell_type": "code",
   "execution_count": 313,
   "metadata": {
    "metadata": {}
   },
   "outputs": [],
   "source": [
    "extra_N = 800\n",
    "extra_X = np.random.randn(extra_N, 2) * 0.1\n",
    "\n",
    "# Adaugarea coordonatelor pentru termenul de bias\n",
    "extra_X = np.concatenate([extra_X, np.ones((extra_N, 1))], axis=1)\n",
    "extra_X[:,1] += 1.5\n",
    "extra_X[:,0] += 3.5\n",
    "extra_T = np.ones(extra_N)\n",
    "\n",
    "# Adaugam datele noi la setul de date existent\n",
    "X_extended = np.concatenate([X, extra_X], axis=0)\n",
    "T_extended = np.concatenate([T, np.ones(extra_N)], axis=0)\n",
    "\n",
    "# Le adaugam pe toate la setul de date de antrenare\n",
    "X_train_extended = np.concatenate([X_train, extra_X], axis=0)\n",
    "T_train_extended = np.concatenate([T_train, extra_T], axis=0)"
   ]
  },
  {
   "cell_type": "markdown",
   "metadata": {},
   "source": [
    "Antrenăm și evaluăm regresia logistică pe **setul de date extins**. \n",
    "\n",
    "Graficul de vizualizare a rezultatului clasificării afișează cu o culoare portocalie dreapta de separație obținută după antrenarea pe setul de date **inițial**. "
   ]
  },
  {
   "cell_type": "code",
   "execution_count": 314,
   "metadata": {
    "metadata": {}
   },
   "outputs": [
    {
     "name": "stdout",
     "output_type": "stream",
     "text": [
      "Acuratete finala pe setul extins - train: 0.9977272727272727, test: 0.95\n"
     ]
    },
    {
     "data": {
      "image/png": "[encoded data removed]",
      "text/plain": [
       "<Figure size 432x288 with 1 Axes>"
      ]
     },
     "metadata": {
      "needs_background": "light"
     },
     "output_type": "display_data"
    }
   ],
   "source": [
    "w_extended, train_nll_extended, test_nll_extended, train_acc_extended, test_acc_extended = train_and_eval_logistic(X_train_extended, T_train_extended, X_test, T_test, lr=0.1, epochs_no=N_EPOCHS)\n",
    "\n",
    "Y_extended = predict_logistic(X_extended, w_extended)\n",
    "print(f\"Acuratete finala pe setul extins - train: {train_acc_extended[-1]}, test: {test_acc_extended[-1]}\")\n",
    "visualize_dataset(X_extended, T_extended, Y_extended, w=w_extended, other_w=w)"
   ]
  },
  {
   "cell_type": "code",
   "execution_count": 315,
   "metadata": {
    "metadata": {}
   },
   "outputs": [
    {
     "data": {
      "image/png": "[encoded data removed]",
      "text/plain": [
       "<Figure size 432x288 with 2 Axes>"
      ]
     },
     "metadata": {
      "needs_background": "light"
     },
     "output_type": "display_data"
    }
   ],
   "source": [
    "plot_evolution(train_acc_extended, test_acc_extended, train_nll_extended, test_nll_extended)"
   ]
  },
  {
   "cell_type": "markdown",
   "metadata": {
    "collapsed": true,
    "jupyter": {
     "outputs_hidden": true
    }
   },
   "source": [
    "### 6. Analiză\n",
    "\n",
    "1. Care este influența adăugăii punctelor pozitive extreme? Afectează ele rezultatul clasificării? Ce se observă în cazul rulării de mai multe ori a procesului de antrenare?\n",
    "2. Putem folosi regresia liniară pentru a clasifica setul de date Two Clusters extins? Care ar fi rezultatul daca am face acest lucru?"
   ]
  },
  {
   "cell_type": "code",
   "execution_count": null,
   "metadata": {},
   "outputs": [],
   "source": []
  },
  {
   "cell_type": "markdown",
   "metadata": {},
   "source": [
    "1. Modificarea granitei de decizie => duc la modificarea performantei modelului.\n",
    "In cazul rularii multiple putem observa o variatie a performantei modelului, deoarece punctele extreme pot influența aleatoriu rezultatul în fiecare rulare.\n",
    "\n",
    "2. Poate duce la clasificari imprecise in cazul unor seturi de date cum ar fi \"Two Clusters exitns\". Daca am face acest lucru ar duce la clasificari eronate pentru punctele care nu se pot separa liniar."
   ]
  }
 ],
 "metadata": {
  "kernelspec": {
   "display_name": "Python 3 (ipykernel)",
   "language": "python",
   "name": "python3"
  },
  "language_info": {
   "codemirror_mode": {
    "name": "ipython",
    "version": 3
   },
   "file_extension": ".py",
   "mimetype": "text/x-python",
   "name": "python",
   "nbconvert_exporter": "python",
   "pygments_lexer": "ipython3",
   "version": "3.10.12"
  }
 },
 "nbformat": 4,
 "nbformat_minor": 4
}
